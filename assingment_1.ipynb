{
 "cells": [
  {
   "cell_type": "code",
   "execution_count": 9,
   "id": "ccd384a7-6b53-4947-aa4c-b63a07c6e226",
   "metadata": {},
   "outputs": [
    {
     "name": "stdout",
     "output_type": "stream",
     "text": [
      "1\n",
      "2\n",
      "3\n",
      "Hello\n",
      "12.3\n",
      "True\n",
      "False\n",
      "(7+2j)\n",
      "5\n",
      "8\n"
     ]
    }
   ],
   "source": [
    "#Question 1\n",
    "var1='Hello World'\n",
    "var2=[1,2,3,4,5,6]\n",
    "var3=12.568\n",
    "var4=('Hello', 'World', 'Banana')    "
   ]
  },
  {
   "cell_type": "code",
   "execution_count": null,
   "id": "e225e786-b798-4037-927a-4eccffd41def",
   "metadata": {},
   "outputs": [],
   "source": [
    "#Question 2\n",
    "var1 = '' #string\n",
    "var2 = '[ DS , ML , Python]'#string\n",
    "var3 = [ 'DS' , 'ML' , 'Python' ]#list\n",
    "var4 = 1#int"
   ]
  },
  {
   "cell_type": "code",
   "execution_count": 1,
   "id": "39aa125c-cd76-43d6-9331-debe435cb4e9",
   "metadata": {},
   "outputs": [
    {
     "name": "stdout",
     "output_type": "stream",
     "text": [
      "4.0\n",
      "1\n",
      "7\n",
      "32\n"
     ]
    }
   ],
   "source": [
    "#Question3\n",
    "\n",
    "# / division operator\n",
    "x = 12\n",
    "y = 3\n",
    "\n",
    "print(x / y)\n",
    "\n",
    "# % modulus operator\n",
    "x = 5\n",
    "y = 2\n",
    "\n",
    "print(x % y)\n",
    "\n",
    "# // floor division operator rounds of the result down to nearest whole number\n",
    "x = 15\n",
    "y = 2\n",
    "\n",
    "print(x // y)\n",
    "\n",
    "# **operator\n",
    "x = 2\n",
    "y = 5\n",
    "\n",
    "print(x ** y)"
   ]
  },
  {
   "cell_type": "code",
   "execution_count": null,
   "id": "8341b62c-36cc-4036-b67f-389b977274a4",
   "metadata": {},
   "outputs": [],
   "source": [
    "#Question4\n",
    "l=[1,2,3,'Hello',12.3,True, False, 7+2j, 5,8]\n",
    "for i in l:\n",
    "    print(i, type(i))"
   ]
  },
  {
   "cell_type": "code",
   "execution_count": null,
   "id": "c0d1541c-803b-4cb2-93d7-d57c11a9e376",
   "metadata": {},
   "outputs": [],
   "source": [
    "#Question 5\n",
    "\n",
    "a=20\n",
    "b=2\n",
    "while a>b:\n",
    "    if a%b==0:\n",
    "        c= a/b\n",
    "        c=int(c)\n",
    "        print(f'a is divisible by b {c} times')\n",
    "    else:\n",
    "        print('a is not divisible by b')\n",
    "    break"
   ]
  },
  {
   "cell_type": "code",
   "execution_count": 11,
   "id": "d2c26d5a-e1f3-452b-9122-fdbb31c46dc8",
   "metadata": {},
   "outputs": [
    {
     "name": "stdout",
     "output_type": "stream",
     "text": [
      "1 is not divisible by 3\n",
      "2 is not divisible by 3\n",
      "3 is divisible by 3\n",
      "4 is not divisible by 3\n",
      "5 is not divisible by 3\n",
      "6 is divisible by 3\n",
      "7 is not divisible by 3\n",
      "8 is not divisible by 3\n",
      "9 is divisible by 3\n",
      "10 is not divisible by 3\n",
      "11 is not divisible by 3\n",
      "12 is divisible by 3\n",
      "13 is not divisible by 3\n",
      "14 is not divisible by 3\n",
      "15 is divisible by 3\n",
      "16 is not divisible by 3\n",
      "17 is not divisible by 3\n",
      "18 is divisible by 3\n",
      "19 is not divisible by 3\n",
      "20 is not divisible by 3\n",
      "21 is divisible by 3\n",
      "22 is not divisible by 3\n",
      "23 is not divisible by 3\n",
      "24 is divisible by 3\n",
      "25 is not divisible by 3\n"
     ]
    }
   ],
   "source": [
    "#Question 6\n",
    "l=[1,2,3,4,5,6,7,8,9,10,11,12,13,14,15,16,17,18,19,20,21,22,23,24,25]\n",
    "for i in l:\n",
    "    if i%3==0:\n",
    "        print(f'{i} is divisible by 3')\n",
    "    else:\n",
    "        print(f'{i} is not divisible by 3')\n",
    "    \n"
   ]
  },
  {
   "cell_type": "code",
   "execution_count": null,
   "id": "271afb13-2358-4232-9cc4-86589c79df33",
   "metadata": {},
   "outputs": [],
   "source": [
    "#Question 7\n",
    "#Mutable detatype once created can not be changed. eg string, int\n",
    "#Immutable data types can be changed after they are created. eg list, set\n",
    "\n",
    "a='Hello'\n",
    "a[2]='p'\n",
    "print(a)#it will throw an error\n",
    "\n",
    "a=[1,2,3,4,5,6,7]\n",
    "a[2]=10\n",
    "print(a)"
   ]
  }
 ],
 "metadata": {
  "kernelspec": {
   "display_name": "Python 3 (ipykernel)",
   "language": "python",
   "name": "python3"
  },
  "language_info": {
   "codemirror_mode": {
    "name": "ipython",
    "version": 3
   },
   "file_extension": ".py",
   "mimetype": "text/x-python",
   "name": "python",
   "nbconvert_exporter": "python",
   "pygments_lexer": "ipython3",
   "version": "3.10.8"
  }
 },
 "nbformat": 4,
 "nbformat_minor": 5
}
